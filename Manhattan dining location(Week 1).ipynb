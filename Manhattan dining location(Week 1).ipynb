{
 "cells": [
  {
   "cell_type": "markdown",
   "metadata": {},
   "source": [
    "# A description of the problem"
   ]
  },
  {
   "cell_type": "markdown",
   "metadata": {},
   "source": [
    "In Manhattan, New York,if someone is looking to open a restaurant, where would you recommend that they open it?"
   ]
  },
  {
   "cell_type": "markdown",
   "metadata": {},
   "source": [
    "# A discussion of the background"
   ]
  },
  {
   "cell_type": "markdown",
   "metadata": {},
   "source": [
    "Which variables should we control to locate?\n",
    "\n",
    "What factors do we think will affect the location?"
   ]
  },
  {
   "cell_type": "markdown",
   "metadata": {},
   "source": [
    "# A description of the data"
   ]
  },
  {
   "cell_type": "markdown",
   "metadata": {},
   "source": [
    "There are three data sources here.\n"
   ]
  },
  {
   "cell_type": "markdown",
   "metadata": {},
   "source": [
    "The first data source is that average population of Manhattan's various neighborhoods\n",
    "\n",
    "\n",
    "Then clean up the data and export the CSV file,it called 'aop_m.csv'\n",
    "\n"
   ]
  },
  {
   "cell_type": "markdown",
   "metadata": {},
   "source": [
    "The second source of data is a list of location of each neighborhood in New York City\n",
    "\n",
    "I downloaded the files and placed it on the folder,it called 'newyork_data.json'"
   ]
  },
  {
   "cell_type": "markdown",
   "metadata": {},
   "source": [
    "The third data source is to use the foursquare to get the venue near each neighborhood."
   ]
  },
  {
   "cell_type": "markdown",
   "metadata": {},
   "source": [
    "# How it will be used to solve the problem."
   ]
  },
  {
   "cell_type": "markdown",
   "metadata": {},
   "source": [
    "Explore the Manhattan community with the Foursquare API. \n",
    "\n",
    "\n",
    "Use the exploration function to get the restaurants in each community (peer competitiveness) and calculate the competitiveness indicators of each region (the lower the better). \n",
    "\n",
    "\n",
    "Use the average demographic data for each neighborhood in Manhattan to calculate population density indicators for each community (the higher the better). \n",
    "\n",
    "\n",
    "Then calculate the comprehensive index \n",
    "\n",
    "\n",
    "the comprehensive index = competitiveness index * corresponding weight + population density indicator * corresponding weight. \n",
    "\n",
    "\n",
    "Finally, use the Folium library to visualize which neighborhoods in Manhattan are most likely to be catering sites."
   ]
  },
  {
   "cell_type": "markdown",
   "metadata": {},
   "source": []
  }
 ],
 "metadata": {
  "kernelspec": {
   "display_name": "Python 3",
   "language": "python",
   "name": "python3"
  },
  "language_info": {
   "codemirror_mode": {
    "name": "ipython",
    "version": 3
   },
   "file_extension": ".py",
   "mimetype": "text/x-python",
   "name": "python",
   "nbconvert_exporter": "python",
   "pygments_lexer": "ipython3",
   "version": "3.7.3"
  }
 },
 "nbformat": 4,
 "nbformat_minor": 2
}
